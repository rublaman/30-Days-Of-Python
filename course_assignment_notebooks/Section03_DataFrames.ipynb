{
  "cells": [
    {
      "cell_type": "markdown",
      "metadata": {
        "id": "view-in-github",
        "colab_type": "text"
      },
      "source": [
        "<a href=\"https://colab.research.google.com/github/rublaman/30-Days-Of-Python/blob/main/course_assignment_notebooks/Section03_DataFrames.ipynb\" target=\"_parent\"><img src=\"https://colab.research.google.com/assets/colab-badge.svg\" alt=\"Open In Colab\"/></a>"
      ]
    },
    {
      "cell_type": "code",
      "execution_count": 5,
      "metadata": {
        "id": "82be9431"
      },
      "outputs": [],
      "source": [
        "import pandas as pd\n",
        "import numpy as np"
      ],
      "id": "82be9431"
    },
    {
      "cell_type": "markdown",
      "metadata": {
        "id": "0LdYjjsTINnp"
      },
      "source": [
        "# Nueva sección"
      ],
      "id": "0LdYjjsTINnp"
    },
    {
      "cell_type": "markdown",
      "metadata": {
        "id": "0a02e42d"
      },
      "source": [
        "# Assignment 1: DataFrame Basics\n",
        "\n",
        "Hi there!\n",
        "\n",
        "Can you read in the transactions dataset and report on:\n",
        "\n",
        "* The number of rows and columns\n",
        "* The names of the columns\n",
        "* The datatypes of each column"
      ],
      "id": "0a02e42d"
    },
    {
      "cell_type": "code",
      "execution_count": 6,
      "metadata": {
        "id": "3O0Hg4utHqOb",
        "colab": {
          "base_uri": "https://localhost:8080/"
        },
        "outputId": "9887e064-5317-4d5d-c487-deb55a6c7d32"
      },
      "outputs": [
        {
          "output_type": "stream",
          "name": "stdout",
          "text": [
            "Mounted at /content/drive\n"
          ]
        }
      ],
      "source": [
        "from google.colab import drive\n",
        "drive.mount('/content/drive')"
      ],
      "id": "3O0Hg4utHqOb"
    },
    {
      "cell_type": "code",
      "execution_count": 8,
      "metadata": {
        "colab": {
          "base_uri": "https://localhost:8080/",
          "height": 424
        },
        "id": "cb37c0d7",
        "outputId": "4d81982d-560f-4902-c047-f65f5f04ec9e"
      },
      "outputs": [
        {
          "output_type": "execute_result",
          "data": {
            "text/plain": [
              "             date  store_nbr  transactions\n",
              "0      2013-01-01         25           770\n",
              "1      2013-01-02          1          2111\n",
              "2      2013-01-02          2          2358\n",
              "3      2013-01-02          3          3487\n",
              "4      2013-01-02          4          1922\n",
              "...           ...        ...           ...\n",
              "83483  2017-08-15         50          2804\n",
              "83484  2017-08-15         51          1573\n",
              "83485  2017-08-15         52          2255\n",
              "83486  2017-08-15         53           932\n",
              "83487  2017-08-15         54           802\n",
              "\n",
              "[83488 rows x 3 columns]"
            ],
            "text/html": [
              "\n",
              "  <div id=\"df-db59aba3-7fd2-4a20-81e6-93271d5f6f70\" class=\"colab-df-container\">\n",
              "    <div>\n",
              "<style scoped>\n",
              "    .dataframe tbody tr th:only-of-type {\n",
              "        vertical-align: middle;\n",
              "    }\n",
              "\n",
              "    .dataframe tbody tr th {\n",
              "        vertical-align: top;\n",
              "    }\n",
              "\n",
              "    .dataframe thead th {\n",
              "        text-align: right;\n",
              "    }\n",
              "</style>\n",
              "<table border=\"1\" class=\"dataframe\">\n",
              "  <thead>\n",
              "    <tr style=\"text-align: right;\">\n",
              "      <th></th>\n",
              "      <th>date</th>\n",
              "      <th>store_nbr</th>\n",
              "      <th>transactions</th>\n",
              "    </tr>\n",
              "  </thead>\n",
              "  <tbody>\n",
              "    <tr>\n",
              "      <th>0</th>\n",
              "      <td>2013-01-01</td>\n",
              "      <td>25</td>\n",
              "      <td>770</td>\n",
              "    </tr>\n",
              "    <tr>\n",
              "      <th>1</th>\n",
              "      <td>2013-01-02</td>\n",
              "      <td>1</td>\n",
              "      <td>2111</td>\n",
              "    </tr>\n",
              "    <tr>\n",
              "      <th>2</th>\n",
              "      <td>2013-01-02</td>\n",
              "      <td>2</td>\n",
              "      <td>2358</td>\n",
              "    </tr>\n",
              "    <tr>\n",
              "      <th>3</th>\n",
              "      <td>2013-01-02</td>\n",
              "      <td>3</td>\n",
              "      <td>3487</td>\n",
              "    </tr>\n",
              "    <tr>\n",
              "      <th>4</th>\n",
              "      <td>2013-01-02</td>\n",
              "      <td>4</td>\n",
              "      <td>1922</td>\n",
              "    </tr>\n",
              "    <tr>\n",
              "      <th>...</th>\n",
              "      <td>...</td>\n",
              "      <td>...</td>\n",
              "      <td>...</td>\n",
              "    </tr>\n",
              "    <tr>\n",
              "      <th>83483</th>\n",
              "      <td>2017-08-15</td>\n",
              "      <td>50</td>\n",
              "      <td>2804</td>\n",
              "    </tr>\n",
              "    <tr>\n",
              "      <th>83484</th>\n",
              "      <td>2017-08-15</td>\n",
              "      <td>51</td>\n",
              "      <td>1573</td>\n",
              "    </tr>\n",
              "    <tr>\n",
              "      <th>83485</th>\n",
              "      <td>2017-08-15</td>\n",
              "      <td>52</td>\n",
              "      <td>2255</td>\n",
              "    </tr>\n",
              "    <tr>\n",
              "      <th>83486</th>\n",
              "      <td>2017-08-15</td>\n",
              "      <td>53</td>\n",
              "      <td>932</td>\n",
              "    </tr>\n",
              "    <tr>\n",
              "      <th>83487</th>\n",
              "      <td>2017-08-15</td>\n",
              "      <td>54</td>\n",
              "      <td>802</td>\n",
              "    </tr>\n",
              "  </tbody>\n",
              "</table>\n",
              "<p>83488 rows × 3 columns</p>\n",
              "</div>\n",
              "    <div class=\"colab-df-buttons\">\n",
              "\n",
              "  <div class=\"colab-df-container\">\n",
              "    <button class=\"colab-df-convert\" onclick=\"convertToInteractive('df-db59aba3-7fd2-4a20-81e6-93271d5f6f70')\"\n",
              "            title=\"Convert this dataframe to an interactive table.\"\n",
              "            style=\"display:none;\">\n",
              "\n",
              "  <svg xmlns=\"http://www.w3.org/2000/svg\" height=\"24px\" viewBox=\"0 -960 960 960\">\n",
              "    <path d=\"M120-120v-720h720v720H120Zm60-500h600v-160H180v160Zm220 220h160v-160H400v160Zm0 220h160v-160H400v160ZM180-400h160v-160H180v160Zm440 0h160v-160H620v160ZM180-180h160v-160H180v160Zm440 0h160v-160H620v160Z\"/>\n",
              "  </svg>\n",
              "    </button>\n",
              "\n",
              "  <style>\n",
              "    .colab-df-container {\n",
              "      display:flex;\n",
              "      gap: 12px;\n",
              "    }\n",
              "\n",
              "    .colab-df-convert {\n",
              "      background-color: #E8F0FE;\n",
              "      border: none;\n",
              "      border-radius: 50%;\n",
              "      cursor: pointer;\n",
              "      display: none;\n",
              "      fill: #1967D2;\n",
              "      height: 32px;\n",
              "      padding: 0 0 0 0;\n",
              "      width: 32px;\n",
              "    }\n",
              "\n",
              "    .colab-df-convert:hover {\n",
              "      background-color: #E2EBFA;\n",
              "      box-shadow: 0px 1px 2px rgba(60, 64, 67, 0.3), 0px 1px 3px 1px rgba(60, 64, 67, 0.15);\n",
              "      fill: #174EA6;\n",
              "    }\n",
              "\n",
              "    .colab-df-buttons div {\n",
              "      margin-bottom: 4px;\n",
              "    }\n",
              "\n",
              "    [theme=dark] .colab-df-convert {\n",
              "      background-color: #3B4455;\n",
              "      fill: #D2E3FC;\n",
              "    }\n",
              "\n",
              "    [theme=dark] .colab-df-convert:hover {\n",
              "      background-color: #434B5C;\n",
              "      box-shadow: 0px 1px 3px 1px rgba(0, 0, 0, 0.15);\n",
              "      filter: drop-shadow(0px 1px 2px rgba(0, 0, 0, 0.3));\n",
              "      fill: #FFFFFF;\n",
              "    }\n",
              "  </style>\n",
              "\n",
              "    <script>\n",
              "      const buttonEl =\n",
              "        document.querySelector('#df-db59aba3-7fd2-4a20-81e6-93271d5f6f70 button.colab-df-convert');\n",
              "      buttonEl.style.display =\n",
              "        google.colab.kernel.accessAllowed ? 'block' : 'none';\n",
              "\n",
              "      async function convertToInteractive(key) {\n",
              "        const element = document.querySelector('#df-db59aba3-7fd2-4a20-81e6-93271d5f6f70');\n",
              "        const dataTable =\n",
              "          await google.colab.kernel.invokeFunction('convertToInteractive',\n",
              "                                                    [key], {});\n",
              "        if (!dataTable) return;\n",
              "\n",
              "        const docLinkHtml = 'Like what you see? Visit the ' +\n",
              "          '<a target=\"_blank\" href=https://colab.research.google.com/notebooks/data_table.ipynb>data table notebook</a>'\n",
              "          + ' to learn more about interactive tables.';\n",
              "        element.innerHTML = '';\n",
              "        dataTable['output_type'] = 'display_data';\n",
              "        await google.colab.output.renderOutput(dataTable, element);\n",
              "        const docLink = document.createElement('div');\n",
              "        docLink.innerHTML = docLinkHtml;\n",
              "        element.appendChild(docLink);\n",
              "      }\n",
              "    </script>\n",
              "  </div>\n",
              "\n",
              "\n",
              "<div id=\"df-db4b29a8-e530-46ae-a52d-fd7073e04a84\">\n",
              "  <button class=\"colab-df-quickchart\" onclick=\"quickchart('df-db4b29a8-e530-46ae-a52d-fd7073e04a84')\"\n",
              "            title=\"Suggest charts.\"\n",
              "            style=\"display:none;\">\n",
              "\n",
              "<svg xmlns=\"http://www.w3.org/2000/svg\" height=\"24px\"viewBox=\"0 0 24 24\"\n",
              "     width=\"24px\">\n",
              "    <g>\n",
              "        <path d=\"M19 3H5c-1.1 0-2 .9-2 2v14c0 1.1.9 2 2 2h14c1.1 0 2-.9 2-2V5c0-1.1-.9-2-2-2zM9 17H7v-7h2v7zm4 0h-2V7h2v10zm4 0h-2v-4h2v4z\"/>\n",
              "    </g>\n",
              "</svg>\n",
              "  </button>\n",
              "\n",
              "<style>\n",
              "  .colab-df-quickchart {\n",
              "      --bg-color: #E8F0FE;\n",
              "      --fill-color: #1967D2;\n",
              "      --hover-bg-color: #E2EBFA;\n",
              "      --hover-fill-color: #174EA6;\n",
              "      --disabled-fill-color: #AAA;\n",
              "      --disabled-bg-color: #DDD;\n",
              "  }\n",
              "\n",
              "  [theme=dark] .colab-df-quickchart {\n",
              "      --bg-color: #3B4455;\n",
              "      --fill-color: #D2E3FC;\n",
              "      --hover-bg-color: #434B5C;\n",
              "      --hover-fill-color: #FFFFFF;\n",
              "      --disabled-bg-color: #3B4455;\n",
              "      --disabled-fill-color: #666;\n",
              "  }\n",
              "\n",
              "  .colab-df-quickchart {\n",
              "    background-color: var(--bg-color);\n",
              "    border: none;\n",
              "    border-radius: 50%;\n",
              "    cursor: pointer;\n",
              "    display: none;\n",
              "    fill: var(--fill-color);\n",
              "    height: 32px;\n",
              "    padding: 0;\n",
              "    width: 32px;\n",
              "  }\n",
              "\n",
              "  .colab-df-quickchart:hover {\n",
              "    background-color: var(--hover-bg-color);\n",
              "    box-shadow: 0 1px 2px rgba(60, 64, 67, 0.3), 0 1px 3px 1px rgba(60, 64, 67, 0.15);\n",
              "    fill: var(--button-hover-fill-color);\n",
              "  }\n",
              "\n",
              "  .colab-df-quickchart-complete:disabled,\n",
              "  .colab-df-quickchart-complete:disabled:hover {\n",
              "    background-color: var(--disabled-bg-color);\n",
              "    fill: var(--disabled-fill-color);\n",
              "    box-shadow: none;\n",
              "  }\n",
              "\n",
              "  .colab-df-spinner {\n",
              "    border: 2px solid var(--fill-color);\n",
              "    border-color: transparent;\n",
              "    border-bottom-color: var(--fill-color);\n",
              "    animation:\n",
              "      spin 1s steps(1) infinite;\n",
              "  }\n",
              "\n",
              "  @keyframes spin {\n",
              "    0% {\n",
              "      border-color: transparent;\n",
              "      border-bottom-color: var(--fill-color);\n",
              "      border-left-color: var(--fill-color);\n",
              "    }\n",
              "    20% {\n",
              "      border-color: transparent;\n",
              "      border-left-color: var(--fill-color);\n",
              "      border-top-color: var(--fill-color);\n",
              "    }\n",
              "    30% {\n",
              "      border-color: transparent;\n",
              "      border-left-color: var(--fill-color);\n",
              "      border-top-color: var(--fill-color);\n",
              "      border-right-color: var(--fill-color);\n",
              "    }\n",
              "    40% {\n",
              "      border-color: transparent;\n",
              "      border-right-color: var(--fill-color);\n",
              "      border-top-color: var(--fill-color);\n",
              "    }\n",
              "    60% {\n",
              "      border-color: transparent;\n",
              "      border-right-color: var(--fill-color);\n",
              "    }\n",
              "    80% {\n",
              "      border-color: transparent;\n",
              "      border-right-color: var(--fill-color);\n",
              "      border-bottom-color: var(--fill-color);\n",
              "    }\n",
              "    90% {\n",
              "      border-color: transparent;\n",
              "      border-bottom-color: var(--fill-color);\n",
              "    }\n",
              "  }\n",
              "</style>\n",
              "\n",
              "  <script>\n",
              "    async function quickchart(key) {\n",
              "      const quickchartButtonEl =\n",
              "        document.querySelector('#' + key + ' button');\n",
              "      quickchartButtonEl.disabled = true;  // To prevent multiple clicks.\n",
              "      quickchartButtonEl.classList.add('colab-df-spinner');\n",
              "      try {\n",
              "        const charts = await google.colab.kernel.invokeFunction(\n",
              "            'suggestCharts', [key], {});\n",
              "      } catch (error) {\n",
              "        console.error('Error during call to suggestCharts:', error);\n",
              "      }\n",
              "      quickchartButtonEl.classList.remove('colab-df-spinner');\n",
              "      quickchartButtonEl.classList.add('colab-df-quickchart-complete');\n",
              "    }\n",
              "    (() => {\n",
              "      let quickchartButtonEl =\n",
              "        document.querySelector('#df-db4b29a8-e530-46ae-a52d-fd7073e04a84 button');\n",
              "      quickchartButtonEl.style.display =\n",
              "        google.colab.kernel.accessAllowed ? 'block' : 'none';\n",
              "    })();\n",
              "  </script>\n",
              "</div>\n",
              "    </div>\n",
              "  </div>\n"
            ]
          },
          "metadata": {},
          "execution_count": 8
        }
      ],
      "source": [
        "# A common practice is to create a path variable to pass to read_csv\n",
        "\n",
        "\n",
        "path = '/content/drive/MyDrive/Cursos/Python/Numpy_Pandas/Pandas Course Resources/retail/transactions.csv'\n",
        "\n",
        "transactions = pd.read_csv(path)\n",
        "\n",
        "transactions"
      ],
      "id": "cb37c0d7"
    },
    {
      "cell_type": "code",
      "execution_count": null,
      "metadata": {
        "colab": {
          "base_uri": "https://localhost:8080/"
        },
        "id": "0ebd4e8d",
        "outputId": "2e42dddb-d332-4866-c1c9-182334cc54c0"
      },
      "outputs": [
        {
          "data": {
            "text/plain": [
              "(83488, 3)"
            ]
          },
          "execution_count": 5,
          "metadata": {},
          "output_type": "execute_result"
        }
      ],
      "source": [
        "transactions.shape"
      ],
      "id": "0ebd4e8d"
    },
    {
      "cell_type": "code",
      "execution_count": null,
      "metadata": {
        "colab": {
          "base_uri": "https://localhost:8080/"
        },
        "id": "7c5626e5",
        "outputId": "24f14972-3e25-40e5-8fcb-d7939803dd44"
      },
      "outputs": [
        {
          "data": {
            "text/plain": [
              "Index(['date', 'store_nbr', 'transactions'], dtype='object')"
            ]
          },
          "execution_count": 6,
          "metadata": {},
          "output_type": "execute_result"
        }
      ],
      "source": [
        "transactions.columns"
      ],
      "id": "7c5626e5"
    },
    {
      "cell_type": "code",
      "execution_count": null,
      "metadata": {
        "colab": {
          "base_uri": "https://localhost:8080/"
        },
        "id": "096d9dce",
        "outputId": "af764744-6900-40ee-964f-b9908f12a9bc"
      },
      "outputs": [
        {
          "data": {
            "text/plain": [
              "date            object\n",
              "store_nbr        int64\n",
              "transactions     int64\n",
              "dtype: object"
            ]
          },
          "execution_count": 7,
          "metadata": {},
          "output_type": "execute_result"
        }
      ],
      "source": [
        "transactions.dtypes"
      ],
      "id": "096d9dce"
    },
    {
      "cell_type": "markdown",
      "metadata": {
        "id": "68959027"
      },
      "source": [
        "# Assignment 2: Exploring DataFrames\n",
        "\n",
        "Hello!\n",
        "\n",
        "* Can you quickly inspect the first 5 rows of the transactions data?\n",
        "\n",
        "* Then, dive a bit more deeply into the data and check if there are any missing values.\n",
        "* What about the number of unique dates? I want to make sure we didn’t leave any out.\n",
        "* Finally, can you report the mean, median, min and max of “transactions”?  I want to check for any anomalies in our data.\n"
      ],
      "id": "68959027"
    },
    {
      "cell_type": "code",
      "execution_count": null,
      "metadata": {
        "colab": {
          "base_uri": "https://localhost:8080/",
          "height": 206
        },
        "id": "ffe682d5",
        "outputId": "e28a07e3-e42f-42d5-9a93-76de8ce5f3d9"
      },
      "outputs": [
        {
          "data": {
            "text/html": [
              "\n",
              "  <div id=\"df-7a6e9fd4-52f0-4e97-a0f2-2d13381310af\" class=\"colab-df-container\">\n",
              "    <div>\n",
              "<style scoped>\n",
              "    .dataframe tbody tr th:only-of-type {\n",
              "        vertical-align: middle;\n",
              "    }\n",
              "\n",
              "    .dataframe tbody tr th {\n",
              "        vertical-align: top;\n",
              "    }\n",
              "\n",
              "    .dataframe thead th {\n",
              "        text-align: right;\n",
              "    }\n",
              "</style>\n",
              "<table border=\"1\" class=\"dataframe\">\n",
              "  <thead>\n",
              "    <tr style=\"text-align: right;\">\n",
              "      <th></th>\n",
              "      <th>date</th>\n",
              "      <th>store_nbr</th>\n",
              "      <th>transactions</th>\n",
              "    </tr>\n",
              "  </thead>\n",
              "  <tbody>\n",
              "    <tr>\n",
              "      <th>0</th>\n",
              "      <td>2013-01-01</td>\n",
              "      <td>25</td>\n",
              "      <td>770</td>\n",
              "    </tr>\n",
              "    <tr>\n",
              "      <th>1</th>\n",
              "      <td>2013-01-02</td>\n",
              "      <td>1</td>\n",
              "      <td>2111</td>\n",
              "    </tr>\n",
              "    <tr>\n",
              "      <th>2</th>\n",
              "      <td>2013-01-02</td>\n",
              "      <td>2</td>\n",
              "      <td>2358</td>\n",
              "    </tr>\n",
              "    <tr>\n",
              "      <th>3</th>\n",
              "      <td>2013-01-02</td>\n",
              "      <td>3</td>\n",
              "      <td>3487</td>\n",
              "    </tr>\n",
              "    <tr>\n",
              "      <th>4</th>\n",
              "      <td>2013-01-02</td>\n",
              "      <td>4</td>\n",
              "      <td>1922</td>\n",
              "    </tr>\n",
              "  </tbody>\n",
              "</table>\n",
              "</div>\n",
              "    <div class=\"colab-df-buttons\">\n",
              "\n",
              "  <div class=\"colab-df-container\">\n",
              "    <button class=\"colab-df-convert\" onclick=\"convertToInteractive('df-7a6e9fd4-52f0-4e97-a0f2-2d13381310af')\"\n",
              "            title=\"Convert this dataframe to an interactive table.\"\n",
              "            style=\"display:none;\">\n",
              "\n",
              "  <svg xmlns=\"http://www.w3.org/2000/svg\" height=\"24px\" viewBox=\"0 -960 960 960\">\n",
              "    <path d=\"M120-120v-720h720v720H120Zm60-500h600v-160H180v160Zm220 220h160v-160H400v160Zm0 220h160v-160H400v160ZM180-400h160v-160H180v160Zm440 0h160v-160H620v160ZM180-180h160v-160H180v160Zm440 0h160v-160H620v160Z\"/>\n",
              "  </svg>\n",
              "    </button>\n",
              "\n",
              "  <style>\n",
              "    .colab-df-container {\n",
              "      display:flex;\n",
              "      gap: 12px;\n",
              "    }\n",
              "\n",
              "    .colab-df-convert {\n",
              "      background-color: #E8F0FE;\n",
              "      border: none;\n",
              "      border-radius: 50%;\n",
              "      cursor: pointer;\n",
              "      display: none;\n",
              "      fill: #1967D2;\n",
              "      height: 32px;\n",
              "      padding: 0 0 0 0;\n",
              "      width: 32px;\n",
              "    }\n",
              "\n",
              "    .colab-df-convert:hover {\n",
              "      background-color: #E2EBFA;\n",
              "      box-shadow: 0px 1px 2px rgba(60, 64, 67, 0.3), 0px 1px 3px 1px rgba(60, 64, 67, 0.15);\n",
              "      fill: #174EA6;\n",
              "    }\n",
              "\n",
              "    .colab-df-buttons div {\n",
              "      margin-bottom: 4px;\n",
              "    }\n",
              "\n",
              "    [theme=dark] .colab-df-convert {\n",
              "      background-color: #3B4455;\n",
              "      fill: #D2E3FC;\n",
              "    }\n",
              "\n",
              "    [theme=dark] .colab-df-convert:hover {\n",
              "      background-color: #434B5C;\n",
              "      box-shadow: 0px 1px 3px 1px rgba(0, 0, 0, 0.15);\n",
              "      filter: drop-shadow(0px 1px 2px rgba(0, 0, 0, 0.3));\n",
              "      fill: #FFFFFF;\n",
              "    }\n",
              "  </style>\n",
              "\n",
              "    <script>\n",
              "      const buttonEl =\n",
              "        document.querySelector('#df-7a6e9fd4-52f0-4e97-a0f2-2d13381310af button.colab-df-convert');\n",
              "      buttonEl.style.display =\n",
              "        google.colab.kernel.accessAllowed ? 'block' : 'none';\n",
              "\n",
              "      async function convertToInteractive(key) {\n",
              "        const element = document.querySelector('#df-7a6e9fd4-52f0-4e97-a0f2-2d13381310af');\n",
              "        const dataTable =\n",
              "          await google.colab.kernel.invokeFunction('convertToInteractive',\n",
              "                                                    [key], {});\n",
              "        if (!dataTable) return;\n",
              "\n",
              "        const docLinkHtml = 'Like what you see? Visit the ' +\n",
              "          '<a target=\"_blank\" href=https://colab.research.google.com/notebooks/data_table.ipynb>data table notebook</a>'\n",
              "          + ' to learn more about interactive tables.';\n",
              "        element.innerHTML = '';\n",
              "        dataTable['output_type'] = 'display_data';\n",
              "        await google.colab.output.renderOutput(dataTable, element);\n",
              "        const docLink = document.createElement('div');\n",
              "        docLink.innerHTML = docLinkHtml;\n",
              "        element.appendChild(docLink);\n",
              "      }\n",
              "    </script>\n",
              "  </div>\n",
              "\n",
              "\n",
              "<div id=\"df-2ae1724b-e80e-4236-835c-d9a468ea93b5\">\n",
              "  <button class=\"colab-df-quickchart\" onclick=\"quickchart('df-2ae1724b-e80e-4236-835c-d9a468ea93b5')\"\n",
              "            title=\"Suggest charts.\"\n",
              "            style=\"display:none;\">\n",
              "\n",
              "<svg xmlns=\"http://www.w3.org/2000/svg\" height=\"24px\"viewBox=\"0 0 24 24\"\n",
              "     width=\"24px\">\n",
              "    <g>\n",
              "        <path d=\"M19 3H5c-1.1 0-2 .9-2 2v14c0 1.1.9 2 2 2h14c1.1 0 2-.9 2-2V5c0-1.1-.9-2-2-2zM9 17H7v-7h2v7zm4 0h-2V7h2v10zm4 0h-2v-4h2v4z\"/>\n",
              "    </g>\n",
              "</svg>\n",
              "  </button>\n",
              "\n",
              "<style>\n",
              "  .colab-df-quickchart {\n",
              "      --bg-color: #E8F0FE;\n",
              "      --fill-color: #1967D2;\n",
              "      --hover-bg-color: #E2EBFA;\n",
              "      --hover-fill-color: #174EA6;\n",
              "      --disabled-fill-color: #AAA;\n",
              "      --disabled-bg-color: #DDD;\n",
              "  }\n",
              "\n",
              "  [theme=dark] .colab-df-quickchart {\n",
              "      --bg-color: #3B4455;\n",
              "      --fill-color: #D2E3FC;\n",
              "      --hover-bg-color: #434B5C;\n",
              "      --hover-fill-color: #FFFFFF;\n",
              "      --disabled-bg-color: #3B4455;\n",
              "      --disabled-fill-color: #666;\n",
              "  }\n",
              "\n",
              "  .colab-df-quickchart {\n",
              "    background-color: var(--bg-color);\n",
              "    border: none;\n",
              "    border-radius: 50%;\n",
              "    cursor: pointer;\n",
              "    display: none;\n",
              "    fill: var(--fill-color);\n",
              "    height: 32px;\n",
              "    padding: 0;\n",
              "    width: 32px;\n",
              "  }\n",
              "\n",
              "  .colab-df-quickchart:hover {\n",
              "    background-color: var(--hover-bg-color);\n",
              "    box-shadow: 0 1px 2px rgba(60, 64, 67, 0.3), 0 1px 3px 1px rgba(60, 64, 67, 0.15);\n",
              "    fill: var(--button-hover-fill-color);\n",
              "  }\n",
              "\n",
              "  .colab-df-quickchart-complete:disabled,\n",
              "  .colab-df-quickchart-complete:disabled:hover {\n",
              "    background-color: var(--disabled-bg-color);\n",
              "    fill: var(--disabled-fill-color);\n",
              "    box-shadow: none;\n",
              "  }\n",
              "\n",
              "  .colab-df-spinner {\n",
              "    border: 2px solid var(--fill-color);\n",
              "    border-color: transparent;\n",
              "    border-bottom-color: var(--fill-color);\n",
              "    animation:\n",
              "      spin 1s steps(1) infinite;\n",
              "  }\n",
              "\n",
              "  @keyframes spin {\n",
              "    0% {\n",
              "      border-color: transparent;\n",
              "      border-bottom-color: var(--fill-color);\n",
              "      border-left-color: var(--fill-color);\n",
              "    }\n",
              "    20% {\n",
              "      border-color: transparent;\n",
              "      border-left-color: var(--fill-color);\n",
              "      border-top-color: var(--fill-color);\n",
              "    }\n",
              "    30% {\n",
              "      border-color: transparent;\n",
              "      border-left-color: var(--fill-color);\n",
              "      border-top-color: var(--fill-color);\n",
              "      border-right-color: var(--fill-color);\n",
              "    }\n",
              "    40% {\n",
              "      border-color: transparent;\n",
              "      border-right-color: var(--fill-color);\n",
              "      border-top-color: var(--fill-color);\n",
              "    }\n",
              "    60% {\n",
              "      border-color: transparent;\n",
              "      border-right-color: var(--fill-color);\n",
              "    }\n",
              "    80% {\n",
              "      border-color: transparent;\n",
              "      border-right-color: var(--fill-color);\n",
              "      border-bottom-color: var(--fill-color);\n",
              "    }\n",
              "    90% {\n",
              "      border-color: transparent;\n",
              "      border-bottom-color: var(--fill-color);\n",
              "    }\n",
              "  }\n",
              "</style>\n",
              "\n",
              "  <script>\n",
              "    async function quickchart(key) {\n",
              "      const quickchartButtonEl =\n",
              "        document.querySelector('#' + key + ' button');\n",
              "      quickchartButtonEl.disabled = true;  // To prevent multiple clicks.\n",
              "      quickchartButtonEl.classList.add('colab-df-spinner');\n",
              "      try {\n",
              "        const charts = await google.colab.kernel.invokeFunction(\n",
              "            'suggestCharts', [key], {});\n",
              "      } catch (error) {\n",
              "        console.error('Error during call to suggestCharts:', error);\n",
              "      }\n",
              "      quickchartButtonEl.classList.remove('colab-df-spinner');\n",
              "      quickchartButtonEl.classList.add('colab-df-quickchart-complete');\n",
              "    }\n",
              "    (() => {\n",
              "      let quickchartButtonEl =\n",
              "        document.querySelector('#df-2ae1724b-e80e-4236-835c-d9a468ea93b5 button');\n",
              "      quickchartButtonEl.style.display =\n",
              "        google.colab.kernel.accessAllowed ? 'block' : 'none';\n",
              "    })();\n",
              "  </script>\n",
              "</div>\n",
              "    </div>\n",
              "  </div>\n"
            ],
            "text/plain": [
              "         date  store_nbr  transactions\n",
              "0  2013-01-01         25           770\n",
              "1  2013-01-02          1          2111\n",
              "2  2013-01-02          2          2358\n",
              "3  2013-01-02          3          3487\n",
              "4  2013-01-02          4          1922"
            ]
          },
          "execution_count": 8,
          "metadata": {},
          "output_type": "execute_result"
        }
      ],
      "source": [
        "transactions.head()"
      ],
      "id": "ffe682d5"
    },
    {
      "cell_type": "code",
      "execution_count": null,
      "metadata": {
        "colab": {
          "base_uri": "https://localhost:8080/"
        },
        "id": "6d6c24d2",
        "outputId": "9b06276e-9534-46e5-f6b3-d258360f084b"
      },
      "outputs": [
        {
          "data": {
            "text/plain": [
              "1682"
            ]
          },
          "execution_count": 9,
          "metadata": {},
          "output_type": "execute_result"
        }
      ],
      "source": [
        "# transactions.describe(include=\"all\")\n",
        "transactions[\"date\"].nunique()"
      ],
      "id": "6d6c24d2"
    },
    {
      "cell_type": "code",
      "execution_count": null,
      "metadata": {
        "colab": {
          "base_uri": "https://localhost:8080/"
        },
        "id": "073c903d",
        "outputId": "7841a1e6-bbb5-4725-9664-08f9291ad03f"
      },
      "outputs": [
        {
          "data": {
            "text/plain": [
              "date            0\n",
              "store_nbr       0\n",
              "transactions    0\n",
              "dtype: int64"
            ]
          },
          "execution_count": 10,
          "metadata": {},
          "output_type": "execute_result"
        }
      ],
      "source": [
        "transactions.isna().sum()"
      ],
      "id": "073c903d"
    },
    {
      "cell_type": "code",
      "execution_count": null,
      "metadata": {
        "id": "4346920c",
        "outputId": "31cc6d61-b3d0-4d49-e50a-b064cfe987ca"
      },
      "outputs": [
        {
          "name": "stdout",
          "output_type": "stream",
          "text": [
            "<class 'pandas.core.frame.DataFrame'>\n",
            "RangeIndex: 83488 entries, 0 to 83487\n",
            "Data columns (total 3 columns):\n",
            " #   Column        Non-Null Count  Dtype \n",
            "---  ------        --------------  ----- \n",
            " 0   date          83488 non-null  object\n",
            " 1   store_nbr     83488 non-null  int64 \n",
            " 2   transactions  83488 non-null  int64 \n",
            "dtypes: int64(2), object(1)\n",
            "memory usage: 1.9+ MB\n"
          ]
        }
      ],
      "source": [
        "transactions.info()"
      ],
      "id": "4346920c"
    },
    {
      "cell_type": "code",
      "execution_count": null,
      "metadata": {
        "id": "77186d80",
        "outputId": "84964a93-820f-42f6-c13c-d9b16d186427"
      },
      "outputs": [
        {
          "data": {
            "text/html": [
              "<div>\n",
              "<style scoped>\n",
              "    .dataframe tbody tr th:only-of-type {\n",
              "        vertical-align: middle;\n",
              "    }\n",
              "\n",
              "    .dataframe tbody tr th {\n",
              "        vertical-align: top;\n",
              "    }\n",
              "\n",
              "    .dataframe thead th {\n",
              "        text-align: right;\n",
              "    }\n",
              "</style>\n",
              "<table border=\"1\" class=\"dataframe\">\n",
              "  <thead>\n",
              "    <tr style=\"text-align: right;\">\n",
              "      <th></th>\n",
              "      <th>store_nbr</th>\n",
              "      <th>transactions</th>\n",
              "    </tr>\n",
              "  </thead>\n",
              "  <tbody>\n",
              "    <tr>\n",
              "      <th>count</th>\n",
              "      <td>83488.000000</td>\n",
              "      <td>83488.000000</td>\n",
              "    </tr>\n",
              "    <tr>\n",
              "      <th>mean</th>\n",
              "      <td>26.939237</td>\n",
              "      <td>1694.602158</td>\n",
              "    </tr>\n",
              "    <tr>\n",
              "      <th>std</th>\n",
              "      <td>15.608204</td>\n",
              "      <td>963.286644</td>\n",
              "    </tr>\n",
              "    <tr>\n",
              "      <th>min</th>\n",
              "      <td>1.000000</td>\n",
              "      <td>5.000000</td>\n",
              "    </tr>\n",
              "    <tr>\n",
              "      <th>25%</th>\n",
              "      <td>13.000000</td>\n",
              "      <td>1046.000000</td>\n",
              "    </tr>\n",
              "    <tr>\n",
              "      <th>50%</th>\n",
              "      <td>27.000000</td>\n",
              "      <td>1393.000000</td>\n",
              "    </tr>\n",
              "    <tr>\n",
              "      <th>75%</th>\n",
              "      <td>40.000000</td>\n",
              "      <td>2079.000000</td>\n",
              "    </tr>\n",
              "    <tr>\n",
              "      <th>max</th>\n",
              "      <td>54.000000</td>\n",
              "      <td>8359.000000</td>\n",
              "    </tr>\n",
              "  </tbody>\n",
              "</table>\n",
              "</div>"
            ],
            "text/plain": [
              "          store_nbr  transactions\n",
              "count  83488.000000  83488.000000\n",
              "mean      26.939237   1694.602158\n",
              "std       15.608204    963.286644\n",
              "min        1.000000      5.000000\n",
              "25%       13.000000   1046.000000\n",
              "50%       27.000000   1393.000000\n",
              "75%       40.000000   2079.000000\n",
              "max       54.000000   8359.000000"
            ]
          },
          "execution_count": 40,
          "metadata": {},
          "output_type": "execute_result"
        }
      ],
      "source": [
        "transactions.describe()"
      ],
      "id": "77186d80"
    },
    {
      "cell_type": "markdown",
      "metadata": {
        "id": "54e6a1ad"
      },
      "source": [
        "# Exercise 3 - Accessing DataFrames\n",
        "\n",
        "Hi, starting to dive deeper into this data.\n",
        "\n",
        "I noticed that the first row is the only one from 2013-01-01.\n",
        "\n",
        "* Can you get me a copy of the DataFrame that excludes that row, and only includes “store_nbr” and “transactions”?\n",
        "* Also, can you report the number of unique store numbers?\n",
        "* Finally, return the total number of transactions in millions\n"
      ],
      "id": "54e6a1ad"
    },
    {
      "cell_type": "code",
      "execution_count": null,
      "metadata": {
        "id": "2fca9359",
        "outputId": "08202b83-3879-452c-c6bb-3b5844cb4eb1"
      },
      "outputs": [
        {
          "data": {
            "text/html": [
              "<div>\n",
              "<style scoped>\n",
              "    .dataframe tbody tr th:only-of-type {\n",
              "        vertical-align: middle;\n",
              "    }\n",
              "\n",
              "    .dataframe tbody tr th {\n",
              "        vertical-align: top;\n",
              "    }\n",
              "\n",
              "    .dataframe thead th {\n",
              "        text-align: right;\n",
              "    }\n",
              "</style>\n",
              "<table border=\"1\" class=\"dataframe\">\n",
              "  <thead>\n",
              "    <tr style=\"text-align: right;\">\n",
              "      <th></th>\n",
              "      <th>date</th>\n",
              "      <th>store_nbr</th>\n",
              "      <th>transactions</th>\n",
              "    </tr>\n",
              "  </thead>\n",
              "  <tbody>\n",
              "    <tr>\n",
              "      <th>0</th>\n",
              "      <td>2013-01-01</td>\n",
              "      <td>25</td>\n",
              "      <td>770</td>\n",
              "    </tr>\n",
              "    <tr>\n",
              "      <th>1</th>\n",
              "      <td>2013-01-02</td>\n",
              "      <td>1</td>\n",
              "      <td>2111</td>\n",
              "    </tr>\n",
              "    <tr>\n",
              "      <th>2</th>\n",
              "      <td>2013-01-02</td>\n",
              "      <td>2</td>\n",
              "      <td>2358</td>\n",
              "    </tr>\n",
              "    <tr>\n",
              "      <th>3</th>\n",
              "      <td>2013-01-02</td>\n",
              "      <td>3</td>\n",
              "      <td>3487</td>\n",
              "    </tr>\n",
              "    <tr>\n",
              "      <th>4</th>\n",
              "      <td>2013-01-02</td>\n",
              "      <td>4</td>\n",
              "      <td>1922</td>\n",
              "    </tr>\n",
              "  </tbody>\n",
              "</table>\n",
              "</div>"
            ],
            "text/plain": [
              "         date  store_nbr  transactions\n",
              "0  2013-01-01         25           770\n",
              "1  2013-01-02          1          2111\n",
              "2  2013-01-02          2          2358\n",
              "3  2013-01-02          3          3487\n",
              "4  2013-01-02          4          1922"
            ]
          },
          "execution_count": 41,
          "metadata": {},
          "output_type": "execute_result"
        }
      ],
      "source": [
        "transactions.head()"
      ],
      "id": "2fca9359"
    },
    {
      "cell_type": "code",
      "execution_count": null,
      "metadata": {
        "id": "03e53911",
        "outputId": "a3643090-dbed-43a6-be45-71581f9571d8"
      },
      "outputs": [
        {
          "data": {
            "text/html": [
              "<div>\n",
              "<style scoped>\n",
              "    .dataframe tbody tr th:only-of-type {\n",
              "        vertical-align: middle;\n",
              "    }\n",
              "\n",
              "    .dataframe tbody tr th {\n",
              "        vertical-align: top;\n",
              "    }\n",
              "\n",
              "    .dataframe thead th {\n",
              "        text-align: right;\n",
              "    }\n",
              "</style>\n",
              "<table border=\"1\" class=\"dataframe\">\n",
              "  <thead>\n",
              "    <tr style=\"text-align: right;\">\n",
              "      <th></th>\n",
              "      <th>store_nbr</th>\n",
              "      <th>transactions</th>\n",
              "    </tr>\n",
              "  </thead>\n",
              "  <tbody>\n",
              "    <tr>\n",
              "      <th>1</th>\n",
              "      <td>1</td>\n",
              "      <td>2111</td>\n",
              "    </tr>\n",
              "    <tr>\n",
              "      <th>2</th>\n",
              "      <td>2</td>\n",
              "      <td>2358</td>\n",
              "    </tr>\n",
              "    <tr>\n",
              "      <th>3</th>\n",
              "      <td>3</td>\n",
              "      <td>3487</td>\n",
              "    </tr>\n",
              "    <tr>\n",
              "      <th>4</th>\n",
              "      <td>4</td>\n",
              "      <td>1922</td>\n",
              "    </tr>\n",
              "    <tr>\n",
              "      <th>5</th>\n",
              "      <td>5</td>\n",
              "      <td>1903</td>\n",
              "    </tr>\n",
              "    <tr>\n",
              "      <th>...</th>\n",
              "      <td>...</td>\n",
              "      <td>...</td>\n",
              "    </tr>\n",
              "    <tr>\n",
              "      <th>83483</th>\n",
              "      <td>50</td>\n",
              "      <td>2804</td>\n",
              "    </tr>\n",
              "    <tr>\n",
              "      <th>83484</th>\n",
              "      <td>51</td>\n",
              "      <td>1573</td>\n",
              "    </tr>\n",
              "    <tr>\n",
              "      <th>83485</th>\n",
              "      <td>52</td>\n",
              "      <td>2255</td>\n",
              "    </tr>\n",
              "    <tr>\n",
              "      <th>83486</th>\n",
              "      <td>53</td>\n",
              "      <td>932</td>\n",
              "    </tr>\n",
              "    <tr>\n",
              "      <th>83487</th>\n",
              "      <td>54</td>\n",
              "      <td>802</td>\n",
              "    </tr>\n",
              "  </tbody>\n",
              "</table>\n",
              "<p>83487 rows × 2 columns</p>\n",
              "</div>"
            ],
            "text/plain": [
              "       store_nbr  transactions\n",
              "1              1          2111\n",
              "2              2          2358\n",
              "3              3          3487\n",
              "4              4          1922\n",
              "5              5          1903\n",
              "...          ...           ...\n",
              "83483         50          2804\n",
              "83484         51          1573\n",
              "83485         52          2255\n",
              "83486         53           932\n",
              "83487         54           802\n",
              "\n",
              "[83487 rows x 2 columns]"
            ]
          },
          "execution_count": 42,
          "metadata": {},
          "output_type": "execute_result"
        }
      ],
      "source": [
        "# transactions.iloc[1:, [1, 2]]\n",
        "transactions.loc[1:, ['store_nbr', 'transactions']]"
      ],
      "id": "03e53911"
    },
    {
      "cell_type": "code",
      "execution_count": null,
      "metadata": {
        "id": "2e57e8fb",
        "outputId": "e8e33be2-ba02-4d6f-c4be-acd7b85b872a"
      },
      "outputs": [
        {
          "data": {
            "text/plain": [
              "54"
            ]
          },
          "execution_count": 43,
          "metadata": {},
          "output_type": "execute_result"
        }
      ],
      "source": [
        "# transactions.loc[:, 'store_nbr'].nunique()\n",
        "transactions['store_nbr'].nunique()"
      ],
      "id": "2e57e8fb"
    },
    {
      "cell_type": "code",
      "execution_count": null,
      "metadata": {
        "id": "fce57d92",
        "outputId": "70480a8c-1aad-4503-a4b4-b917a42e8155"
      },
      "outputs": [
        {
          "data": {
            "text/plain": [
              "141.478945"
            ]
          },
          "execution_count": 44,
          "metadata": {},
          "output_type": "execute_result"
        }
      ],
      "source": [
        "# transactions.loc[:, 'transactions'].sum() / 1000000\n",
        "transactions['transactions'].sum() / 1000000"
      ],
      "id": "fce57d92"
    },
    {
      "cell_type": "markdown",
      "metadata": {
        "id": "e4ef5b93"
      },
      "source": [
        "# Assignment 4: Dropping Data and Duplicates\n",
        "\n",
        "Hi there!\n",
        "\n",
        "Can you:\n",
        "\n",
        "1. Drop the first row of data? We want it permanently removed.\n",
        "2. Drop the date column but not in place\n",
        "3. Return a dataframe that only includes the last row for each of the stores.\n",
        "\n",
        "Thanks!"
      ],
      "id": "e4ef5b93"
    },
    {
      "cell_type": "code",
      "execution_count": null,
      "metadata": {
        "id": "7b57a592",
        "outputId": "8532a1e5-d158-455e-98e7-f533a1d3f4a3"
      },
      "outputs": [
        {
          "data": {
            "text/html": [
              "<div>\n",
              "<style scoped>\n",
              "    .dataframe tbody tr th:only-of-type {\n",
              "        vertical-align: middle;\n",
              "    }\n",
              "\n",
              "    .dataframe tbody tr th {\n",
              "        vertical-align: top;\n",
              "    }\n",
              "\n",
              "    .dataframe thead th {\n",
              "        text-align: right;\n",
              "    }\n",
              "</style>\n",
              "<table border=\"1\" class=\"dataframe\">\n",
              "  <thead>\n",
              "    <tr style=\"text-align: right;\">\n",
              "      <th></th>\n",
              "      <th>date</th>\n",
              "      <th>store_nbr</th>\n",
              "      <th>transactions</th>\n",
              "    </tr>\n",
              "  </thead>\n",
              "  <tbody>\n",
              "    <tr>\n",
              "      <th>0</th>\n",
              "      <td>2013-01-01</td>\n",
              "      <td>25</td>\n",
              "      <td>770</td>\n",
              "    </tr>\n",
              "    <tr>\n",
              "      <th>1</th>\n",
              "      <td>2013-01-02</td>\n",
              "      <td>1</td>\n",
              "      <td>2111</td>\n",
              "    </tr>\n",
              "    <tr>\n",
              "      <th>2</th>\n",
              "      <td>2013-01-02</td>\n",
              "      <td>2</td>\n",
              "      <td>2358</td>\n",
              "    </tr>\n",
              "    <tr>\n",
              "      <th>3</th>\n",
              "      <td>2013-01-02</td>\n",
              "      <td>3</td>\n",
              "      <td>3487</td>\n",
              "    </tr>\n",
              "    <tr>\n",
              "      <th>4</th>\n",
              "      <td>2013-01-02</td>\n",
              "      <td>4</td>\n",
              "      <td>1922</td>\n",
              "    </tr>\n",
              "  </tbody>\n",
              "</table>\n",
              "</div>"
            ],
            "text/plain": [
              "         date  store_nbr  transactions\n",
              "0  2013-01-01         25           770\n",
              "1  2013-01-02          1          2111\n",
              "2  2013-01-02          2          2358\n",
              "3  2013-01-02          3          3487\n",
              "4  2013-01-02          4          1922"
            ]
          },
          "execution_count": 45,
          "metadata": {},
          "output_type": "execute_result"
        }
      ],
      "source": [
        "transactions.head()"
      ],
      "id": "7b57a592"
    },
    {
      "cell_type": "code",
      "execution_count": null,
      "metadata": {
        "id": "a19dd02a",
        "outputId": "875b89b2-5011-4ee0-c770-ef6934f3e076"
      },
      "outputs": [
        {
          "data": {
            "text/html": [
              "<div>\n",
              "<style scoped>\n",
              "    .dataframe tbody tr th:only-of-type {\n",
              "        vertical-align: middle;\n",
              "    }\n",
              "\n",
              "    .dataframe tbody tr th {\n",
              "        vertical-align: top;\n",
              "    }\n",
              "\n",
              "    .dataframe thead th {\n",
              "        text-align: right;\n",
              "    }\n",
              "</style>\n",
              "<table border=\"1\" class=\"dataframe\">\n",
              "  <thead>\n",
              "    <tr style=\"text-align: right;\">\n",
              "      <th></th>\n",
              "      <th>date</th>\n",
              "      <th>store_nbr</th>\n",
              "      <th>transactions</th>\n",
              "    </tr>\n",
              "  </thead>\n",
              "  <tbody>\n",
              "    <tr>\n",
              "      <th>1</th>\n",
              "      <td>2013-01-02</td>\n",
              "      <td>1</td>\n",
              "      <td>2111</td>\n",
              "    </tr>\n",
              "    <tr>\n",
              "      <th>2</th>\n",
              "      <td>2013-01-02</td>\n",
              "      <td>2</td>\n",
              "      <td>2358</td>\n",
              "    </tr>\n",
              "    <tr>\n",
              "      <th>3</th>\n",
              "      <td>2013-01-02</td>\n",
              "      <td>3</td>\n",
              "      <td>3487</td>\n",
              "    </tr>\n",
              "    <tr>\n",
              "      <th>4</th>\n",
              "      <td>2013-01-02</td>\n",
              "      <td>4</td>\n",
              "      <td>1922</td>\n",
              "    </tr>\n",
              "    <tr>\n",
              "      <th>5</th>\n",
              "      <td>2013-01-02</td>\n",
              "      <td>5</td>\n",
              "      <td>1903</td>\n",
              "    </tr>\n",
              "  </tbody>\n",
              "</table>\n",
              "</div>"
            ],
            "text/plain": [
              "         date  store_nbr  transactions\n",
              "1  2013-01-02          1          2111\n",
              "2  2013-01-02          2          2358\n",
              "3  2013-01-02          3          3487\n",
              "4  2013-01-02          4          1922\n",
              "5  2013-01-02          5          1903"
            ]
          },
          "execution_count": 46,
          "metadata": {},
          "output_type": "execute_result"
        }
      ],
      "source": [
        "transactions.drop(axis=0, index=0, inplace=True)\n",
        "\n",
        "transactions.head()"
      ],
      "id": "a19dd02a"
    },
    {
      "cell_type": "code",
      "execution_count": null,
      "metadata": {
        "id": "78560e89",
        "outputId": "1078b0a1-f0da-459d-c5d9-41616da1bbf2"
      },
      "outputs": [
        {
          "data": {
            "text/html": [
              "<div>\n",
              "<style scoped>\n",
              "    .dataframe tbody tr th:only-of-type {\n",
              "        vertical-align: middle;\n",
              "    }\n",
              "\n",
              "    .dataframe tbody tr th {\n",
              "        vertical-align: top;\n",
              "    }\n",
              "\n",
              "    .dataframe thead th {\n",
              "        text-align: right;\n",
              "    }\n",
              "</style>\n",
              "<table border=\"1\" class=\"dataframe\">\n",
              "  <thead>\n",
              "    <tr style=\"text-align: right;\">\n",
              "      <th></th>\n",
              "      <th>store_nbr</th>\n",
              "      <th>transactions</th>\n",
              "    </tr>\n",
              "  </thead>\n",
              "  <tbody>\n",
              "    <tr>\n",
              "      <th>1</th>\n",
              "      <td>1</td>\n",
              "      <td>2111</td>\n",
              "    </tr>\n",
              "    <tr>\n",
              "      <th>2</th>\n",
              "      <td>2</td>\n",
              "      <td>2358</td>\n",
              "    </tr>\n",
              "    <tr>\n",
              "      <th>3</th>\n",
              "      <td>3</td>\n",
              "      <td>3487</td>\n",
              "    </tr>\n",
              "    <tr>\n",
              "      <th>4</th>\n",
              "      <td>4</td>\n",
              "      <td>1922</td>\n",
              "    </tr>\n",
              "    <tr>\n",
              "      <th>5</th>\n",
              "      <td>5</td>\n",
              "      <td>1903</td>\n",
              "    </tr>\n",
              "  </tbody>\n",
              "</table>\n",
              "</div>"
            ],
            "text/plain": [
              "   store_nbr  transactions\n",
              "1          1          2111\n",
              "2          2          2358\n",
              "3          3          3487\n",
              "4          4          1922\n",
              "5          5          1903"
            ]
          },
          "execution_count": 47,
          "metadata": {},
          "output_type": "execute_result"
        }
      ],
      "source": [
        "transactions.drop(axis=1, columns='date').head()"
      ],
      "id": "78560e89"
    },
    {
      "cell_type": "code",
      "execution_count": null,
      "metadata": {
        "id": "8d2398f0",
        "outputId": "a7841cfa-c2f2-43c5-94a5-0a59b6846a10"
      },
      "outputs": [
        {
          "data": {
            "text/html": [
              "<div>\n",
              "<style scoped>\n",
              "    .dataframe tbody tr th:only-of-type {\n",
              "        vertical-align: middle;\n",
              "    }\n",
              "\n",
              "    .dataframe tbody tr th {\n",
              "        vertical-align: top;\n",
              "    }\n",
              "\n",
              "    .dataframe thead th {\n",
              "        text-align: right;\n",
              "    }\n",
              "</style>\n",
              "<table border=\"1\" class=\"dataframe\">\n",
              "  <thead>\n",
              "    <tr style=\"text-align: right;\">\n",
              "      <th></th>\n",
              "      <th>date</th>\n",
              "      <th>store_nbr</th>\n",
              "      <th>transactions</th>\n",
              "    </tr>\n",
              "  </thead>\n",
              "  <tbody>\n",
              "    <tr>\n",
              "      <th>83434</th>\n",
              "      <td>2017-08-15</td>\n",
              "      <td>1</td>\n",
              "      <td>1693</td>\n",
              "    </tr>\n",
              "    <tr>\n",
              "      <th>83435</th>\n",
              "      <td>2017-08-15</td>\n",
              "      <td>2</td>\n",
              "      <td>1737</td>\n",
              "    </tr>\n",
              "    <tr>\n",
              "      <th>83436</th>\n",
              "      <td>2017-08-15</td>\n",
              "      <td>3</td>\n",
              "      <td>2956</td>\n",
              "    </tr>\n",
              "    <tr>\n",
              "      <th>83437</th>\n",
              "      <td>2017-08-15</td>\n",
              "      <td>4</td>\n",
              "      <td>1283</td>\n",
              "    </tr>\n",
              "    <tr>\n",
              "      <th>83438</th>\n",
              "      <td>2017-08-15</td>\n",
              "      <td>5</td>\n",
              "      <td>1310</td>\n",
              "    </tr>\n",
              "  </tbody>\n",
              "</table>\n",
              "</div>"
            ],
            "text/plain": [
              "             date  store_nbr  transactions\n",
              "83434  2017-08-15          1          1693\n",
              "83435  2017-08-15          2          1737\n",
              "83436  2017-08-15          3          2956\n",
              "83437  2017-08-15          4          1283\n",
              "83438  2017-08-15          5          1310"
            ]
          },
          "execution_count": 48,
          "metadata": {},
          "output_type": "execute_result"
        }
      ],
      "source": [
        "transactions.drop_duplicates(subset='store_nbr', keep='last').head()"
      ],
      "id": "8d2398f0"
    },
    {
      "cell_type": "markdown",
      "metadata": {
        "id": "a31b812d"
      },
      "source": [
        "# Assignment 5: Missing Data\n",
        "\n",
        "Hello,\n",
        "\n",
        "Can you tell if any dates or prices are missing in the oil dataset?\n",
        "\n",
        "Then compare the mean of the oil series when filling in with mean vs. filling in with 0.\n",
        "\n",
        "Thanks!"
      ],
      "id": "a31b812d"
    },
    {
      "cell_type": "code",
      "execution_count": null,
      "metadata": {
        "id": "ab747f3a"
      },
      "outputs": [],
      "source": [
        "oil = pd.read_csv(\"../retail/oil.csv\")"
      ],
      "id": "ab747f3a"
    },
    {
      "cell_type": "code",
      "execution_count": null,
      "metadata": {
        "id": "8e3543f6",
        "outputId": "35b15bf6-edda-4998-8cb7-5be0f9f55d42"
      },
      "outputs": [
        {
          "data": {
            "text/html": [
              "<div>\n",
              "<style scoped>\n",
              "    .dataframe tbody tr th:only-of-type {\n",
              "        vertical-align: middle;\n",
              "    }\n",
              "\n",
              "    .dataframe tbody tr th {\n",
              "        vertical-align: top;\n",
              "    }\n",
              "\n",
              "    .dataframe thead th {\n",
              "        text-align: right;\n",
              "    }\n",
              "</style>\n",
              "<table border=\"1\" class=\"dataframe\">\n",
              "  <thead>\n",
              "    <tr style=\"text-align: right;\">\n",
              "      <th></th>\n",
              "      <th>date</th>\n",
              "      <th>dcoilwtico</th>\n",
              "    </tr>\n",
              "  </thead>\n",
              "  <tbody>\n",
              "    <tr>\n",
              "      <th>0</th>\n",
              "      <td>2013-01-01</td>\n",
              "      <td>NaN</td>\n",
              "    </tr>\n",
              "    <tr>\n",
              "      <th>1</th>\n",
              "      <td>2013-01-02</td>\n",
              "      <td>93.14</td>\n",
              "    </tr>\n",
              "    <tr>\n",
              "      <th>2</th>\n",
              "      <td>2013-01-03</td>\n",
              "      <td>92.97</td>\n",
              "    </tr>\n",
              "    <tr>\n",
              "      <th>3</th>\n",
              "      <td>2013-01-04</td>\n",
              "      <td>93.12</td>\n",
              "    </tr>\n",
              "    <tr>\n",
              "      <th>4</th>\n",
              "      <td>2013-01-07</td>\n",
              "      <td>93.20</td>\n",
              "    </tr>\n",
              "  </tbody>\n",
              "</table>\n",
              "</div>"
            ],
            "text/plain": [
              "         date  dcoilwtico\n",
              "0  2013-01-01         NaN\n",
              "1  2013-01-02       93.14\n",
              "2  2013-01-03       92.97\n",
              "3  2013-01-04       93.12\n",
              "4  2013-01-07       93.20"
            ]
          },
          "execution_count": 50,
          "metadata": {},
          "output_type": "execute_result"
        }
      ],
      "source": [
        "oil.head()"
      ],
      "id": "8e3543f6"
    },
    {
      "cell_type": "code",
      "execution_count": null,
      "metadata": {
        "id": "c1dd171b",
        "outputId": "b94d2986-fde9-4d78-84cb-83f6414e5df3"
      },
      "outputs": [
        {
          "name": "stdout",
          "output_type": "stream",
          "text": [
            "<class 'pandas.core.frame.DataFrame'>\n",
            "RangeIndex: 1218 entries, 0 to 1217\n",
            "Data columns (total 2 columns):\n",
            " #   Column      Non-Null Count  Dtype  \n",
            "---  ------      --------------  -----  \n",
            " 0   date        1218 non-null   object \n",
            " 1   dcoilwtico  1175 non-null   float64\n",
            "dtypes: float64(1), object(1)\n",
            "memory usage: 19.2+ KB\n"
          ]
        }
      ],
      "source": [
        "oil.info()"
      ],
      "id": "c1dd171b"
    },
    {
      "cell_type": "code",
      "execution_count": null,
      "metadata": {
        "id": "ccf390b6",
        "outputId": "8aa4d999-8765-4769-bf43-c93d4495d545"
      },
      "outputs": [
        {
          "data": {
            "text/plain": [
              "date           0\n",
              "dcoilwtico    43\n",
              "dtype: int64"
            ]
          },
          "execution_count": 52,
          "metadata": {},
          "output_type": "execute_result"
        }
      ],
      "source": [
        "oil.isna().sum()"
      ],
      "id": "ccf390b6"
    },
    {
      "cell_type": "code",
      "execution_count": null,
      "metadata": {
        "id": "38e38aa9",
        "outputId": "d87c05de-08bb-4c9e-e369-978b2be5c84e"
      },
      "outputs": [
        {
          "data": {
            "text/plain": [
              "67.71436595744682"
            ]
          },
          "execution_count": 53,
          "metadata": {},
          "output_type": "execute_result"
        }
      ],
      "source": [
        "oil['dcoilwtico'].mean()"
      ],
      "id": "38e38aa9"
    },
    {
      "cell_type": "code",
      "execution_count": null,
      "metadata": {
        "id": "6faadf27",
        "outputId": "4dec44c3-cf04-42fa-e24a-0b512fb3ff9e"
      },
      "outputs": [
        {
          "data": {
            "text/plain": [
              "65.32379310344828"
            ]
          },
          "execution_count": 54,
          "metadata": {},
          "output_type": "execute_result"
        }
      ],
      "source": [
        "oil['dcoilwtico'].fillna(0).mean()"
      ],
      "id": "6faadf27"
    },
    {
      "cell_type": "markdown",
      "metadata": {
        "id": "a10e8103"
      },
      "source": [
        "# Assignment 6: Filtering DataFrames\n",
        "\n",
        "I need some quick research on store 25:\n",
        "\n",
        "* First, calculate the percentage of times ALL stores had more than 2000 transactions\n",
        "* Then, calculate the percentage of times store 25 had more than 2000 transactions, and calculate the sum of transactions on these days\n",
        "* Finally, sum the transactions for stores 25 and 31, that occurred in May or June, and had less than 2000 transactions\n"
      ],
      "id": "a10e8103"
    },
    {
      "cell_type": "code",
      "execution_count": null,
      "metadata": {
        "id": "a1d1964d",
        "outputId": "ff5de9a3-9c47-4672-845f-0753f3e57fa9"
      },
      "outputs": [
        {
          "data": {
            "text/html": [
              "<div>\n",
              "<style scoped>\n",
              "    .dataframe tbody tr th:only-of-type {\n",
              "        vertical-align: middle;\n",
              "    }\n",
              "\n",
              "    .dataframe tbody tr th {\n",
              "        vertical-align: top;\n",
              "    }\n",
              "\n",
              "    .dataframe thead th {\n",
              "        text-align: right;\n",
              "    }\n",
              "</style>\n",
              "<table border=\"1\" class=\"dataframe\">\n",
              "  <thead>\n",
              "    <tr style=\"text-align: right;\">\n",
              "      <th></th>\n",
              "      <th>date</th>\n",
              "      <th>store_nbr</th>\n",
              "      <th>transactions</th>\n",
              "    </tr>\n",
              "  </thead>\n",
              "  <tbody>\n",
              "    <tr>\n",
              "      <th>1</th>\n",
              "      <td>2013-01-02</td>\n",
              "      <td>1</td>\n",
              "      <td>2111</td>\n",
              "    </tr>\n",
              "    <tr>\n",
              "      <th>2</th>\n",
              "      <td>2013-01-02</td>\n",
              "      <td>2</td>\n",
              "      <td>2358</td>\n",
              "    </tr>\n",
              "    <tr>\n",
              "      <th>3</th>\n",
              "      <td>2013-01-02</td>\n",
              "      <td>3</td>\n",
              "      <td>3487</td>\n",
              "    </tr>\n",
              "    <tr>\n",
              "      <th>4</th>\n",
              "      <td>2013-01-02</td>\n",
              "      <td>4</td>\n",
              "      <td>1922</td>\n",
              "    </tr>\n",
              "    <tr>\n",
              "      <th>5</th>\n",
              "      <td>2013-01-02</td>\n",
              "      <td>5</td>\n",
              "      <td>1903</td>\n",
              "    </tr>\n",
              "  </tbody>\n",
              "</table>\n",
              "</div>"
            ],
            "text/plain": [
              "         date  store_nbr  transactions\n",
              "1  2013-01-02          1          2111\n",
              "2  2013-01-02          2          2358\n",
              "3  2013-01-02          3          3487\n",
              "4  2013-01-02          4          1922\n",
              "5  2013-01-02          5          1903"
            ]
          },
          "execution_count": 55,
          "metadata": {},
          "output_type": "execute_result"
        }
      ],
      "source": [
        "transactions.head()"
      ],
      "id": "a1d1964d"
    },
    {
      "cell_type": "code",
      "execution_count": null,
      "metadata": {
        "id": "9205301a",
        "outputId": "a56dc94e-e6e0-498f-9691-e2d896bd8cec"
      },
      "outputs": [
        {
          "data": {
            "text/html": [
              "<div>\n",
              "<style scoped>\n",
              "    .dataframe tbody tr th:only-of-type {\n",
              "        vertical-align: middle;\n",
              "    }\n",
              "\n",
              "    .dataframe tbody tr th {\n",
              "        vertical-align: top;\n",
              "    }\n",
              "\n",
              "    .dataframe thead th {\n",
              "        text-align: right;\n",
              "    }\n",
              "</style>\n",
              "<table border=\"1\" class=\"dataframe\">\n",
              "  <thead>\n",
              "    <tr style=\"text-align: right;\">\n",
              "      <th></th>\n",
              "      <th>date</th>\n",
              "      <th>store_nbr</th>\n",
              "      <th>transactions</th>\n",
              "    </tr>\n",
              "  </thead>\n",
              "  <tbody>\n",
              "    <tr>\n",
              "      <th>1</th>\n",
              "      <td>2013-01-02</td>\n",
              "      <td>1</td>\n",
              "      <td>2111</td>\n",
              "    </tr>\n",
              "    <tr>\n",
              "      <th>2</th>\n",
              "      <td>2013-01-02</td>\n",
              "      <td>2</td>\n",
              "      <td>2358</td>\n",
              "    </tr>\n",
              "    <tr>\n",
              "      <th>3</th>\n",
              "      <td>2013-01-02</td>\n",
              "      <td>3</td>\n",
              "      <td>3487</td>\n",
              "    </tr>\n",
              "    <tr>\n",
              "      <th>4</th>\n",
              "      <td>2013-01-02</td>\n",
              "      <td>4</td>\n",
              "      <td>1922</td>\n",
              "    </tr>\n",
              "    <tr>\n",
              "      <th>5</th>\n",
              "      <td>2013-01-02</td>\n",
              "      <td>5</td>\n",
              "      <td>1903</td>\n",
              "    </tr>\n",
              "    <tr>\n",
              "      <th>...</th>\n",
              "      <td>...</td>\n",
              "      <td>...</td>\n",
              "      <td>...</td>\n",
              "    </tr>\n",
              "    <tr>\n",
              "      <th>72977</th>\n",
              "      <td>2017-01-31</td>\n",
              "      <td>49</td>\n",
              "      <td>2680</td>\n",
              "    </tr>\n",
              "    <tr>\n",
              "      <th>72978</th>\n",
              "      <td>2017-01-31</td>\n",
              "      <td>50</td>\n",
              "      <td>2158</td>\n",
              "    </tr>\n",
              "    <tr>\n",
              "      <th>72979</th>\n",
              "      <td>2017-01-31</td>\n",
              "      <td>51</td>\n",
              "      <td>1448</td>\n",
              "    </tr>\n",
              "    <tr>\n",
              "      <th>72980</th>\n",
              "      <td>2017-01-31</td>\n",
              "      <td>53</td>\n",
              "      <td>950</td>\n",
              "    </tr>\n",
              "    <tr>\n",
              "      <th>72981</th>\n",
              "      <td>2017-01-31</td>\n",
              "      <td>54</td>\n",
              "      <td>793</td>\n",
              "    </tr>\n",
              "  </tbody>\n",
              "</table>\n",
              "<p>13300 rows × 3 columns</p>\n",
              "</div>"
            ],
            "text/plain": [
              "             date  store_nbr  transactions\n",
              "1      2013-01-02          1          2111\n",
              "2      2013-01-02          2          2358\n",
              "3      2013-01-02          3          3487\n",
              "4      2013-01-02          4          1922\n",
              "5      2013-01-02          5          1903\n",
              "...           ...        ...           ...\n",
              "72977  2017-01-31         49          2680\n",
              "72978  2017-01-31         50          2158\n",
              "72979  2017-01-31         51          1448\n",
              "72980  2017-01-31         53           950\n",
              "72981  2017-01-31         54           793\n",
              "\n",
              "[13300 rows x 3 columns]"
            ]
          },
          "execution_count": 56,
          "metadata": {},
          "output_type": "execute_result"
        }
      ],
      "source": [
        "transactions.query(\"date.str[6] == '1'\")"
      ],
      "id": "9205301a"
    },
    {
      "cell_type": "code",
      "execution_count": null,
      "metadata": {
        "id": "0cd4508d",
        "outputId": "f5affc29-bf72-4267-ffca-2504dad71845"
      },
      "outputs": [
        {
          "data": {
            "text/plain": [
              "0.266808006036868"
            ]
          },
          "execution_count": 57,
          "metadata": {},
          "output_type": "execute_result"
        }
      ],
      "source": [
        "# all stores > 2500 percentage occurence\n",
        "\n",
        "(transactions['transactions'] > 2000).mean()"
      ],
      "id": "0cd4508d"
    },
    {
      "cell_type": "code",
      "execution_count": null,
      "metadata": {
        "id": "7d95252e",
        "outputId": "b47fec9b-2ed5-46a0-e295-8d1529667fc5"
      },
      "outputs": [
        {
          "data": {
            "text/plain": [
              "0.03469640644361834"
            ]
          },
          "execution_count": 58,
          "metadata": {},
          "output_type": "execute_result"
        }
      ],
      "source": [
        "# Number of times store 25 had > 2000 divided by total days for store 25 to get percent of time it happened\n",
        "\n",
        "mask = (transactions['store_nbr'] == 25) & (transactions['transactions'] > 2000)\n",
        "\n",
        "(transactions.loc[mask, 'transactions'].count()\n",
        " / transactions.loc[(transactions['store_nbr'] == 25), 'transactions'].count())"
      ],
      "id": "7d95252e"
    },
    {
      "cell_type": "code",
      "execution_count": null,
      "metadata": {
        "id": "e98eb067",
        "outputId": "e3aab76a-b6fd-490f-aa9a-6ecb793fbc25"
      },
      "outputs": [
        {
          "data": {
            "text/plain": [
              "144903"
            ]
          },
          "execution_count": 59,
          "metadata": {},
          "output_type": "execute_result"
        }
      ],
      "source": [
        "# Sum of transactions where store 25 had > 2000 transactions\n",
        "\n",
        "transactions.loc[mask, 'transactions'].sum()"
      ],
      "id": "e98eb067"
    },
    {
      "cell_type": "code",
      "execution_count": null,
      "metadata": {
        "id": "cc729c73",
        "outputId": "c81e6fb3-5325-4144-be70-594ed97ff0ad"
      },
      "outputs": [
        {
          "data": {
            "text/plain": [
              "644910"
            ]
          },
          "execution_count": 60,
          "metadata": {},
          "output_type": "execute_result"
        }
      ],
      "source": [
        "# sum the transactions for stores 25 and 31, that occurred in May or June, and had less than 2000 transactions\n",
        "\n",
        "# using condition\n",
        "\n",
        "# filtered_store = transactions.loc[(transactions['store_nbr'] == 25) | (transactions['store_nbr'] == 31)]\n",
        "# filtered_store = filtered_store.loc[(filtered_store['date'].str[5:7] == '05') | (filtered_store['date'].str[5:7] == '06')]\n",
        "# filtered_store = filtered_store.loc[(filtered_store['transactions'] < 2000), 'transactions'].sum()\n",
        "# filtered_store\n",
        "\n",
        "# using query()\n",
        "(transactions\n",
        "    .query(\"store_nbr in [25, 31] and date.str[6] in ['5', '6'] and transactions < 2000\")\n",
        "    .loc[:, 'transactions']\n",
        "    .sum())\n"
      ],
      "id": "cc729c73"
    },
    {
      "cell_type": "markdown",
      "metadata": {
        "id": "1b4dbc56"
      },
      "source": [
        "# Assignment 7: Sorting DataFrames\n",
        "\n",
        "Hi there,\n",
        "* Can you get me a dataset that includes the 5 days with the highest transactions counts? Any similarities between them?\n",
        "* Then, can you get me a dataset sorted by date from earliest to most recent, but with the highest transactions first and the lowest transactions last for each day?\n",
        "* Finally, sort the columns in reverse alphabetical order.\n",
        "\n",
        "Thanks!\n"
      ],
      "id": "1b4dbc56"
    },
    {
      "cell_type": "code",
      "execution_count": null,
      "metadata": {
        "id": "8537da30",
        "outputId": "183b055d-acf2-4d2b-8942-4bbd998bd588"
      },
      "outputs": [
        {
          "data": {
            "text/html": [
              "<div>\n",
              "<style scoped>\n",
              "    .dataframe tbody tr th:only-of-type {\n",
              "        vertical-align: middle;\n",
              "    }\n",
              "\n",
              "    .dataframe tbody tr th {\n",
              "        vertical-align: top;\n",
              "    }\n",
              "\n",
              "    .dataframe thead th {\n",
              "        text-align: right;\n",
              "    }\n",
              "</style>\n",
              "<table border=\"1\" class=\"dataframe\">\n",
              "  <thead>\n",
              "    <tr style=\"text-align: right;\">\n",
              "      <th></th>\n",
              "      <th>date</th>\n",
              "      <th>store_nbr</th>\n",
              "      <th>transactions</th>\n",
              "    </tr>\n",
              "  </thead>\n",
              "  <tbody>\n",
              "    <tr>\n",
              "      <th>1</th>\n",
              "      <td>2013-01-02</td>\n",
              "      <td>1</td>\n",
              "      <td>2111</td>\n",
              "    </tr>\n",
              "    <tr>\n",
              "      <th>2</th>\n",
              "      <td>2013-01-02</td>\n",
              "      <td>2</td>\n",
              "      <td>2358</td>\n",
              "    </tr>\n",
              "    <tr>\n",
              "      <th>3</th>\n",
              "      <td>2013-01-02</td>\n",
              "      <td>3</td>\n",
              "      <td>3487</td>\n",
              "    </tr>\n",
              "    <tr>\n",
              "      <th>4</th>\n",
              "      <td>2013-01-02</td>\n",
              "      <td>4</td>\n",
              "      <td>1922</td>\n",
              "    </tr>\n",
              "    <tr>\n",
              "      <th>5</th>\n",
              "      <td>2013-01-02</td>\n",
              "      <td>5</td>\n",
              "      <td>1903</td>\n",
              "    </tr>\n",
              "  </tbody>\n",
              "</table>\n",
              "</div>"
            ],
            "text/plain": [
              "         date  store_nbr  transactions\n",
              "1  2013-01-02          1          2111\n",
              "2  2013-01-02          2          2358\n",
              "3  2013-01-02          3          3487\n",
              "4  2013-01-02          4          1922\n",
              "5  2013-01-02          5          1903"
            ]
          },
          "execution_count": 61,
          "metadata": {},
          "output_type": "execute_result"
        }
      ],
      "source": [
        "transactions.head()"
      ],
      "id": "8537da30"
    },
    {
      "cell_type": "code",
      "execution_count": null,
      "metadata": {
        "id": "467ba590"
      },
      "outputs": [],
      "source": [],
      "id": "467ba590"
    },
    {
      "cell_type": "code",
      "execution_count": null,
      "metadata": {
        "id": "65a91820"
      },
      "outputs": [],
      "source": [],
      "id": "65a91820"
    },
    {
      "cell_type": "code",
      "execution_count": null,
      "metadata": {
        "id": "5ded5f12"
      },
      "outputs": [],
      "source": [],
      "id": "5ded5f12"
    },
    {
      "cell_type": "markdown",
      "metadata": {
        "id": "d18621b8"
      },
      "source": [
        "# Assignment 8: Modifying Columns\n",
        "\n",
        "Just some quick work, but can you send me the transaction data with the columns renamed?\n",
        "\n",
        "* Rename `transactions` to `transaction_count` and `store_nbr` to `store_number`.\n",
        "* Reorder the columns so date is first, then store number, then transaction count.\n",
        "\n",
        "Thanks!\n"
      ],
      "id": "d18621b8"
    },
    {
      "cell_type": "code",
      "execution_count": null,
      "metadata": {
        "id": "949d1bfe"
      },
      "outputs": [],
      "source": [
        "transactions.head()"
      ],
      "id": "949d1bfe"
    },
    {
      "cell_type": "code",
      "execution_count": null,
      "metadata": {
        "id": "e4ad52c5"
      },
      "outputs": [],
      "source": [],
      "id": "e4ad52c5"
    },
    {
      "cell_type": "markdown",
      "metadata": {
        "id": "cca66fb2"
      },
      "source": [
        "# Assignment 9: Column Creation\n",
        "\n",
        "Just some quick work, but can you send me the transaction data with the columns renamed?\n",
        "\n",
        "* Create a `pct_to_target` column that divides transactions by 2500.\n",
        "* Then, create a `met_target` column that returns True if `pct_to_target` is greater than or equal to 1.\n",
        "* Next, create a `bonus_payable` column that equals 100 if `met_target` is True, and 0 if not. Then sum the bonus payable column.\n",
        "* Finally, create columns for month and day of week as integers. There is some helper code for these dateparts below.\n",
        "\n",
        "\n",
        "\n",
        "Thanks!\n",
        "\n"
      ],
      "id": "cca66fb2"
    },
    {
      "cell_type": "code",
      "execution_count": null,
      "metadata": {
        "id": "ca94a906"
      },
      "outputs": [],
      "source": [
        "transactions.head()"
      ],
      "id": "ca94a906"
    },
    {
      "cell_type": "code",
      "execution_count": null,
      "metadata": {
        "id": "01b2e427"
      },
      "outputs": [],
      "source": [],
      "id": "01b2e427"
    },
    {
      "cell_type": "code",
      "execution_count": null,
      "metadata": {
        "id": "8e861ba7"
      },
      "outputs": [],
      "source": [],
      "id": "8e861ba7"
    },
    {
      "cell_type": "markdown",
      "metadata": {
        "id": "b0068fd8"
      },
      "source": [
        "# Assignment 10: np.select\n",
        "\n",
        "Hi there! I need a few columns created.\n",
        "\n",
        "1. Create a ‘seasonal_bonus’ column that applies to these dates:\n",
        "    * All days in December (month = 12)\n",
        "    * Sundays (day_of_week = 6) in May (month = 5)\n",
        "    * Mondays (day_of_week = 0) in July (month = 7)\n",
        "2. Call the December bonus ‘Holiday Bonus’, the May bonus ‘Corporate Month’, and the July bonus ‘Summer Special’. If no bonus applies, the column should display ‘None’.\n",
        "3. Finally, calculate the total bonus owed at $100 per day.\n",
        "\n",
        "Thanks!"
      ],
      "id": "b0068fd8"
    },
    {
      "cell_type": "code",
      "execution_count": null,
      "metadata": {
        "id": "1ae4968f"
      },
      "outputs": [],
      "source": [
        "transactions.head()"
      ],
      "id": "1ae4968f"
    },
    {
      "cell_type": "code",
      "execution_count": null,
      "metadata": {
        "id": "3d1349a2"
      },
      "outputs": [],
      "source": [],
      "id": "3d1349a2"
    },
    {
      "cell_type": "code",
      "execution_count": null,
      "metadata": {
        "id": "f71b0df8"
      },
      "outputs": [],
      "source": [],
      "id": "f71b0df8"
    },
    {
      "cell_type": "code",
      "execution_count": null,
      "metadata": {
        "id": "3e407cda"
      },
      "outputs": [],
      "source": [],
      "id": "3e407cda"
    },
    {
      "cell_type": "markdown",
      "metadata": {
        "id": "21419bc2"
      },
      "source": [
        "# Assignment 11: Assign\n",
        "\n",
        "* Drop the columns that have been created so far (keep only date, store_number, and transaction count), and recreate them using the assign method.\n",
        "* Then sum the seasonal bonus owed once again to make sure the numbers are correct.\n"
      ],
      "id": "21419bc2"
    },
    {
      "cell_type": "code",
      "execution_count": null,
      "metadata": {
        "id": "7ca47abb"
      },
      "outputs": [],
      "source": [
        "# Drop columns we created in prior exercises\n"
      ],
      "id": "7ca47abb"
    },
    {
      "cell_type": "code",
      "execution_count": null,
      "metadata": {
        "id": "d5fa300b"
      },
      "outputs": [],
      "source": [
        "# Create same columns with assign\n"
      ],
      "id": "d5fa300b"
    },
    {
      "cell_type": "code",
      "execution_count": null,
      "metadata": {
        "id": "eb8ccd91"
      },
      "outputs": [],
      "source": [],
      "id": "eb8ccd91"
    },
    {
      "cell_type": "markdown",
      "metadata": {
        "id": "e4b60432"
      },
      "source": [
        "# Assignment 12: Memory Optimization\n",
        "\n",
        "Reduce the memory usage of the transactions DataFrame to below 5MB."
      ],
      "id": "e4b60432"
    },
    {
      "cell_type": "code",
      "execution_count": null,
      "metadata": {
        "id": "6b389b1e"
      },
      "outputs": [],
      "source": [
        "transactions.head()"
      ],
      "id": "6b389b1e"
    },
    {
      "cell_type": "code",
      "execution_count": null,
      "metadata": {
        "id": "0ebefdfb"
      },
      "outputs": [],
      "source": [
        "transactions.info(memory_usage=\"deep\")"
      ],
      "id": "0ebefdfb"
    },
    {
      "cell_type": "code",
      "execution_count": null,
      "metadata": {
        "id": "8a520fb2"
      },
      "outputs": [],
      "source": [],
      "id": "8a520fb2"
    },
    {
      "cell_type": "code",
      "execution_count": null,
      "metadata": {
        "id": "9cccb5d8"
      },
      "outputs": [],
      "source": [],
      "id": "9cccb5d8"
    },
    {
      "cell_type": "code",
      "execution_count": null,
      "metadata": {
        "id": "c4c1b08e"
      },
      "outputs": [],
      "source": [],
      "id": "c4c1b08e"
    },
    {
      "cell_type": "code",
      "execution_count": null,
      "metadata": {
        "id": "078bef01"
      },
      "outputs": [],
      "source": [],
      "id": "078bef01"
    }
  ],
  "metadata": {
    "colab": {
      "provenance": [],
      "toc_visible": true,
      "include_colab_link": true
    },
    "kernelspec": {
      "display_name": "Python 3 (ipykernel)",
      "language": "python",
      "name": "python3"
    },
    "language_info": {
      "codemirror_mode": {
        "name": "ipython",
        "version": 3
      },
      "file_extension": ".py",
      "mimetype": "text/x-python",
      "name": "python",
      "nbconvert_exporter": "python",
      "pygments_lexer": "ipython3",
      "version": "3.10.11"
    }
  },
  "nbformat": 4,
  "nbformat_minor": 5
}