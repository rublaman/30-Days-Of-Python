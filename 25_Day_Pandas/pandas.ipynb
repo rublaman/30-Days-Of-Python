{
 "cells": [
  {
   "cell_type": "markdown",
   "metadata": {},
   "source": [
    "# Pandas\n",
    "***\n",
    "\n",
    "Pandas is an open source, high-performance, easy-to-use data structures and data analysis tools for the Python programming language. Pandas adds data structures and tools designed to work with table-like data which is Series and Data Frames. Pandas provides tools for data manipulation:\n",
    "\n",
    "- reshaping\n",
    "- merging\n",
    "- sorting\n",
    "- slicing\n",
    "- aggregation\n",
    "- imputation. If you are using anaconda, you do not have install pandas."
   ]
  },
  {
   "cell_type": "markdown",
   "metadata": {},
   "source": [
    "## Installing Pandas\n",
    "\n",
    "- For Windows:\n",
    "  - pip install conda\n",
    "  - pip install pandas\n",
    "\n",
    "Pandas data structure is based on Series and DataFrames. A series is a column and a DataFrame is a multidimensional table made up of collection of series. In order to create a pandas series we should use numpy to create a one dimensional arrays or a python list. Let us see an example of a series:"
   ]
  },
  {
   "cell_type": "markdown",
   "metadata": {},
   "source": [
    "## Importing Pandas"
   ]
  },
  {
   "cell_type": "code",
   "execution_count": 2,
   "metadata": {},
   "outputs": [],
   "source": [
    "import pandas as pd # importing pandas as pd\n",
    "import numpy  as np # importing numpy as np"
   ]
  },
  {
   "cell_type": "markdown",
   "metadata": {},
   "source": [
    "## Creating Pandas Series with Default Index"
   ]
  },
  {
   "cell_type": "code",
   "execution_count": 3,
   "metadata": {},
   "outputs": [
    {
     "name": "stdout",
     "output_type": "stream",
     "text": [
      "0    1\n",
      "1    2\n",
      "2    3\n",
      "3    4\n",
      "4    5\n",
      "dtype: int64\n"
     ]
    }
   ],
   "source": [
    "nums = [1, 2, 3, 4,5]\n",
    "s = pd.Series(nums)\n",
    "print(s)"
   ]
  },
  {
   "cell_type": "markdown",
   "metadata": {},
   "source": [
    "## Creating Pandas Series with custom index"
   ]
  },
  {
   "cell_type": "code",
   "execution_count": 4,
   "metadata": {},
   "outputs": [
    {
     "name": "stdout",
     "output_type": "stream",
     "text": [
      "1    1\n",
      "2    2\n",
      "3    3\n",
      "4    4\n",
      "5    5\n",
      "dtype: int64\n"
     ]
    }
   ],
   "source": [
    "nums = [1, 2, 3, 4, 5]\n",
    "s = pd.Series(nums, index=[1, 2, 3, 4, 5])\n",
    "print(s)"
   ]
  },
  {
   "cell_type": "code",
   "execution_count": 5,
   "metadata": {},
   "outputs": [
    {
     "name": "stdout",
     "output_type": "stream",
     "text": [
      "1    Orange\n",
      "2    Banana\n",
      "3     Mango\n",
      "dtype: object\n"
     ]
    }
   ],
   "source": [
    "fruits = ['Orange','Banana','Mango']\n",
    "fruits = pd.Series(fruits, index=[1, 2, 3])\n",
    "print(fruits)"
   ]
  },
  {
   "cell_type": "markdown",
   "metadata": {},
   "source": [
    "## Creating Pandas Series from a Dictionary\n"
   ]
  },
  {
   "cell_type": "code",
   "execution_count": 6,
   "metadata": {},
   "outputs": [],
   "source": [
    "dct = {'name':'Ruben','country':'Spain','city':'Leon'}"
   ]
  },
  {
   "cell_type": "code",
   "execution_count": 7,
   "metadata": {},
   "outputs": [
    {
     "name": "stdout",
     "output_type": "stream",
     "text": [
      "name       Ruben\n",
      "country    Spain\n",
      "city        Leon\n",
      "dtype: object\n"
     ]
    }
   ],
   "source": [
    "s = pd.Series(dct)\n",
    "print(s)"
   ]
  },
  {
   "cell_type": "markdown",
   "metadata": {},
   "source": [
    "## Creating a Constant Pandas Series\n"
   ]
  },
  {
   "cell_type": "code",
   "execution_count": 8,
   "metadata": {},
   "outputs": [
    {
     "name": "stdout",
     "output_type": "stream",
     "text": [
      "1    10\n",
      "2    10\n",
      "3    10\n",
      "dtype: int64\n"
     ]
    }
   ],
   "source": [
    "s = pd.Series(10, index = [1, 2, 3])\n",
    "print(s)"
   ]
  },
  {
   "cell_type": "markdown",
   "metadata": {},
   "source": [
    "## Creating a Pandas Series Using Linspace"
   ]
  },
  {
   "cell_type": "code",
   "execution_count": 9,
   "metadata": {},
   "outputs": [
    {
     "name": "stdout",
     "output_type": "stream",
     "text": [
      "0     5.000000\n",
      "1     6.666667\n",
      "2     8.333333\n",
      "3    10.000000\n",
      "4    11.666667\n",
      "5    13.333333\n",
      "6    15.000000\n",
      "7    16.666667\n",
      "8    18.333333\n",
      "9    20.000000\n",
      "dtype: float64\n"
     ]
    }
   ],
   "source": [
    "s = pd.Series(np.linspace(5, 20, 10)) # linspace(starting, end, items)\n",
    "print(s)"
   ]
  },
  {
   "cell_type": "markdown",
   "metadata": {},
   "source": [
    "# DataFrames\n",
    "***\n",
    "Pandas data frames can be created in different ways."
   ]
  },
  {
   "cell_type": "markdown",
   "metadata": {},
   "source": [
    "## Creating DataFrames from list of lists"
   ]
  },
  {
   "cell_type": "code",
   "execution_count": 10,
   "metadata": {},
   "outputs": [
    {
     "name": "stdout",
     "output_type": "stream",
     "text": [
      "   Names Country       City\n",
      "0  Ruben   Spain       Leon\n",
      "1  David      UK     London\n",
      "2   John  Sweden  Stockholm\n"
     ]
    }
   ],
   "source": [
    "data = [\n",
    "    ['Ruben', 'Spain', 'Leon'], \n",
    "    ['David', 'UK', 'London'],\n",
    "    ['John', 'Sweden', 'Stockholm']\n",
    "]\n",
    "df = pd.DataFrame(data, columns=['Names','Country','City'])\n",
    "print(df)"
   ]
  },
  {
   "cell_type": "markdown",
   "metadata": {},
   "source": [
    "## Creating DataFrame Using Dictionary"
   ]
  },
  {
   "cell_type": "code",
   "execution_count": 12,
   "metadata": {},
   "outputs": [
    {
     "name": "stdout",
     "output_type": "stream",
     "text": [
      "       Name  Country       City\n",
      "0  Asabeneh  Finland    Helsiki\n",
      "1     David       UK     London\n",
      "2      John   Sweden  Stockholm\n"
     ]
    }
   ],
   "source": [
    "data = {'Name': ['Asabeneh', 'David', 'John'], 'Country':[\n",
    "    'Finland', 'UK', 'Sweden'], 'City': ['Helsiki', 'London', 'Stockholm']}\n",
    "df = pd.DataFrame(data)\n",
    "print(df)"
   ]
  },
  {
   "cell_type": "markdown",
   "metadata": {},
   "source": [
    "## Creating DataFrames from a List of Dictionaries\n"
   ]
  },
  {
   "cell_type": "code",
   "execution_count": 11,
   "metadata": {},
   "outputs": [
    {
     "name": "stdout",
     "output_type": "stream",
     "text": [
      "       Name  Country       City\n",
      "0  Asabeneh  Finland   Helsinki\n",
      "1     David       UK     London\n",
      "2      John   Sweden  Stockholm\n"
     ]
    }
   ],
   "source": [
    "data = [\n",
    "    {'Name': 'Asabeneh', 'Country': 'Finland', 'City': 'Helsinki'},\n",
    "    {'Name': 'David', 'Country': 'UK', 'City': 'London'},\n",
    "    {'Name': 'John', 'Country': 'Sweden', 'City': 'Stockholm'}]\n",
    "df = pd.DataFrame(data)\n",
    "print(df)"
   ]
  },
  {
   "cell_type": "markdown",
   "metadata": {},
   "source": [
    "# Reading CSV file using Pandas\n",
    "***"
   ]
  },
  {
   "cell_type": "code",
   "execution_count": 13,
   "metadata": {},
   "outputs": [
    {
     "name": "stdout",
     "output_type": "stream",
     "text": [
      "      Gender     Height      Weight\n",
      "0       Male  73.847017  241.893563\n",
      "1       Male  68.781904  162.310473\n",
      "2       Male  74.110105  212.740856\n",
      "3       Male  71.730978  220.042470\n",
      "4       Male  69.881796  206.349801\n",
      "...      ...        ...         ...\n",
      "9995  Female  66.172652  136.777454\n",
      "9996  Female  67.067155  170.867906\n",
      "9997  Female  63.867992  128.475319\n",
      "9998  Female  69.034243  163.852461\n",
      "9999  Female  61.944246  113.649103\n",
      "\n",
      "[10000 rows x 3 columns]\n"
     ]
    }
   ],
   "source": [
    "import pandas as pd\n",
    "\n",
    "df = pd.read_csv('../data/weight-height.csv')\n",
    "print(df)"
   ]
  },
  {
   "cell_type": "markdown",
   "metadata": {},
   "source": [
    "## Data exploration"
   ]
  },
  {
   "cell_type": "code",
   "execution_count": 14,
   "metadata": {},
   "outputs": [
    {
     "name": "stdout",
     "output_type": "stream",
     "text": [
      "  Gender     Height      Weight\n",
      "0   Male  73.847017  241.893563\n",
      "1   Male  68.781904  162.310473\n",
      "2   Male  74.110105  212.740856\n",
      "3   Male  71.730978  220.042470\n",
      "4   Male  69.881796  206.349801\n"
     ]
    }
   ],
   "source": [
    "print(df.head()) # give five rows we can increase the number of rows by passing argument to the head() method"
   ]
  },
  {
   "cell_type": "markdown",
   "metadata": {},
   "source": [
    "Let us also explore the last recordings of the dataframe using the tail() methods."
   ]
  },
  {
   "cell_type": "code",
   "execution_count": 15,
   "metadata": {},
   "outputs": [
    {
     "name": "stdout",
     "output_type": "stream",
     "text": [
      "      Gender     Height      Weight\n",
      "9995  Female  66.172652  136.777454\n",
      "9996  Female  67.067155  170.867906\n",
      "9997  Female  63.867992  128.475319\n",
      "9998  Female  69.034243  163.852461\n",
      "9999  Female  61.944246  113.649103\n"
     ]
    }
   ],
   "source": [
    "print(df.tail()) # tails give the last five rows, we can increase the rows by passing argument to tail method"
   ]
  },
  {
   "cell_type": "markdown",
   "metadata": {},
   "source": [
    "As you can see the csv file has three rows: Gender, Height and Weight. If the DataFrame would have a long rows, it would be hard to know all the columns. Therefore, we should use a method to know the colums. we do not know the number of rows. Let's use shape meathod."
   ]
  },
  {
   "cell_type": "code",
   "execution_count": 16,
   "metadata": {},
   "outputs": [
    {
     "name": "stdout",
     "output_type": "stream",
     "text": [
      "(10000, 3)\n"
     ]
    }
   ],
   "source": [
    "print(df.shape) # as you can see 10000 rows and three columns"
   ]
  },
  {
   "cell_type": "markdown",
   "metadata": {},
   "source": [
    "Let us get all the columns using columns."
   ]
  },
  {
   "cell_type": "code",
   "execution_count": 18,
   "metadata": {},
   "outputs": [
    {
     "name": "stdout",
     "output_type": "stream",
     "text": [
      "Index(['Gender', 'Height', 'Weight'], dtype='object')\n"
     ]
    }
   ],
   "source": [
    "print(df.columns)"
   ]
  },
  {
   "cell_type": "markdown",
   "metadata": {},
   "source": [
    "Now, let us get a specific column using the column key"
   ]
  },
  {
   "cell_type": "code",
   "execution_count": 20,
   "metadata": {},
   "outputs": [
    {
     "name": "stdout",
     "output_type": "stream",
     "text": [
      "0       73.847017\n",
      "1       68.781904\n",
      "2       74.110105\n",
      "3       71.730978\n",
      "4       69.881796\n",
      "          ...    \n",
      "9995    66.172652\n",
      "9996    67.067155\n",
      "9997    63.867992\n",
      "9998    69.034243\n",
      "9999    61.944246\n",
      "Name: Height, Length: 10000, dtype: float64\n"
     ]
    }
   ],
   "source": [
    "heights = df['Height'] # this is now a series\n",
    "print(heights)"
   ]
  },
  {
   "cell_type": "code",
   "execution_count": 22,
   "metadata": {},
   "outputs": [
    {
     "name": "stdout",
     "output_type": "stream",
     "text": [
      "0       241.893563\n",
      "1       162.310473\n",
      "2       212.740856\n",
      "3       220.042470\n",
      "4       206.349801\n",
      "           ...    \n",
      "9995    136.777454\n",
      "9996    170.867906\n",
      "9997    128.475319\n",
      "9998    163.852461\n",
      "9999    113.649103\n",
      "Name: Weight, Length: 10000, dtype: float64\n"
     ]
    }
   ],
   "source": [
    "weights = df['Weight'] # this is now a series\n",
    "print(weights)"
   ]
  },
  {
   "cell_type": "code",
   "execution_count": 23,
   "metadata": {},
   "outputs": [
    {
     "name": "stdout",
     "output_type": "stream",
     "text": [
      "True\n"
     ]
    }
   ],
   "source": [
    "print(len(heights) == len(weights))"
   ]
  },
  {
   "cell_type": "markdown",
   "metadata": {},
   "source": [
    "The describe() method provides a descriptive statistical values of a dataset."
   ]
  },
  {
   "cell_type": "code",
   "execution_count": 24,
   "metadata": {},
   "outputs": [
    {
     "name": "stdout",
     "output_type": "stream",
     "text": [
      "count    10000.000000\n",
      "mean        66.367560\n",
      "std          3.847528\n",
      "min         54.263133\n",
      "25%         63.505620\n",
      "50%         66.318070\n",
      "75%         69.174262\n",
      "max         78.998742\n",
      "Name: Height, dtype: float64\n"
     ]
    }
   ],
   "source": [
    "print(heights.describe()) # give statisical information about height data"
   ]
  },
  {
   "cell_type": "code",
   "execution_count": 25,
   "metadata": {},
   "outputs": [
    {
     "name": "stdout",
     "output_type": "stream",
     "text": [
      "count    10000.000000\n",
      "mean       161.440357\n",
      "std         32.108439\n",
      "min         64.700127\n",
      "25%        135.818051\n",
      "50%        161.212928\n",
      "75%        187.169525\n",
      "max        269.989699\n",
      "Name: Weight, dtype: float64\n"
     ]
    }
   ],
   "source": [
    "print(weights.describe())"
   ]
  },
  {
   "cell_type": "code",
   "execution_count": 26,
   "metadata": {},
   "outputs": [
    {
     "name": "stdout",
     "output_type": "stream",
     "text": [
      "             Height        Weight\n",
      "count  10000.000000  10000.000000\n",
      "mean      66.367560    161.440357\n",
      "std        3.847528     32.108439\n",
      "min       54.263133     64.700127\n",
      "25%       63.505620    135.818051\n",
      "50%       66.318070    161.212928\n",
      "75%       69.174262    187.169525\n",
      "max       78.998742    269.989699\n"
     ]
    }
   ],
   "source": [
    "print(df.describe())  # describe can also give statistical information from a dataFrame"
   ]
  },
  {
   "cell_type": "markdown",
   "metadata": {},
   "source": [
    "Similar to describe(), the info() method also give information about the dataset."
   ]
  }
 ],
 "metadata": {
  "kernelspec": {
   "display_name": "Python 3.10.6 64-bit",
   "language": "python",
   "name": "python3"
  },
  "language_info": {
   "codemirror_mode": {
    "name": "ipython",
    "version": 3
   },
   "file_extension": ".py",
   "mimetype": "text/x-python",
   "name": "python",
   "nbconvert_exporter": "python",
   "pygments_lexer": "ipython3",
   "version": "3.10.6"
  },
  "orig_nbformat": 4,
  "vscode": {
   "interpreter": {
    "hash": "fa5e5e9a487e2dd76c7ea7823608b3e5576beb764152fabbf69ac7563ac3923b"
   }
  }
 },
 "nbformat": 4,
 "nbformat_minor": 2
}
